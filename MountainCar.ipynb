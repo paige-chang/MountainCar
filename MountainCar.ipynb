{
  "nbformat": 4,
  "nbformat_minor": 0,
  "metadata": {
    "colab": {
      "name": "MountainCar.ipynb",
      "provenance": [],
      "collapsed_sections": [],
      "authorship_tag": "ABX9TyMINac0BEhDCZOG7S3EC4K6"
    },
    "kernelspec": {
      "name": "python3",
      "display_name": "Python 3"
    }
  },
  "cells": [
    {
      "cell_type": "markdown",
      "metadata": {
        "id": "6qU0p0p4TJCD",
        "colab_type": "text"
      },
      "source": [
        "\n",
        "\n",
        "```\n",
        "Overview\n",
        "\n",
        "*   Get an under powered car to the top of a hill (top = 0.5 in position)\n",
        "*   Car starts at random position from -0.6 to -0.4 with no velocity\n",
        "*   -1 towards reward for each time step, until the car reaches the goal position\n",
        "*   There are two states (position and velocity) and three actions (left, none, or right).\n",
        "```\n",
        "\n"
      ]
    },
    {
      "cell_type": "code",
      "metadata": {
        "id": "qNXghWkQkBrf",
        "colab_type": "code",
        "outputId": "df0fcdc9-d4fe-4afe-cdd0-0091a5f05782",
        "colab": {
          "base_uri": "https://localhost:8080/",
          "height": 34
        }
      },
      "source": [
        "%tensorflow_version 1.x\n",
        "import tensorflow as tf\n",
        "tf.compat.v1.logging.set_verbosity(tf.compat.v1.logging.ERROR)\n",
        "\n",
        "import gym\n",
        "import numpy as np\n",
        "import random\n",
        "import matplotlib.pyplot as plt\n",
        "import math\n",
        "from collections import deque\n",
        "from keras import Sequential, models\n",
        "from keras.layers import Dense\n",
        "from keras.optimizers import adam\n",
        "import warnings\n",
        "warnings.filterwarnings('ignore')"
      ],
      "execution_count": 1,
      "outputs": [
        {
          "output_type": "stream",
          "text": [
            "Using TensorFlow backend.\n"
          ],
          "name": "stderr"
        }
      ]
    },
    {
      "cell_type": "markdown",
      "metadata": {
        "id": "4QNyG2M5gDjR",
        "colab_type": "text"
      },
      "source": [
        "Construct agent"
      ]
    },
    {
      "cell_type": "code",
      "metadata": {
        "id": "KgV4LRVSkSg7",
        "colab_type": "code",
        "colab": {}
      },
      "source": [
        "class DQN():\n",
        "\n",
        "    \"\"\" Implementation of deep q learning algorithm\"\"\"\n",
        "\n",
        "    def __init__(self):\n",
        "\n",
        "        \"\"\"\n",
        "        Initalize an Agent object\n",
        "        \"\"\"\n",
        "\n",
        "        self.action_space = env.action_space.n\n",
        "        self.state_space = env.observation_space.shape[0]\n",
        "        self.epsilon = 1\n",
        "        self.epsilon_min = .001\n",
        "        self.epsilon_decay = .999\n",
        "        self.discount_factor = 0.9\n",
        "        self.learning_rate = 0.001\n",
        "        self.batch_size = 128\n",
        "        self.memory = deque(maxlen = 10000)\n",
        "        self.model = self.build_model()\n",
        "\n",
        "    def build_model(self):\n",
        "\n",
        "        \"\"\"\n",
        "        The model is a convolutional neural network. It is trying to predict \n",
        "        the return of taking each action given the current state of the environment.\n",
        "        \"\"\"\n",
        "\n",
        "        model = Sequential()\n",
        "        model.add(Dense(24, input_shape = (self.state_space,), activation = 'relu'))\n",
        "        model.add(Dense(24, activation = 'relu'))\n",
        "        model.add(Dense(self.action_space, activation = 'linear'))\n",
        "        model.compile(loss = 'mse', optimizer = adam(lr = self.learning_rate))\n",
        "        return model\n",
        "\n",
        "    def save_model(self, filename = None):\n",
        "\n",
        "        self.model.save(filename)\n",
        "\n",
        "    def remember(self, state, action, reward, next_state, done):\n",
        "\n",
        "        \"\"\"\n",
        "        Save the memory that the agent observes and we will use this data later\n",
        "        \"\"\" \n",
        "\n",
        "        self.memory.append((state, action, reward, next_state, done))\n",
        "\n",
        "    def act(self, state):\n",
        "\n",
        "        \"\"\"\n",
        "        To balance between exploration and exploitation, a epsilon-greedy policy is introduced.\n",
        "        It is a decaying probability percentage which the learning algorithm uses to choose between. \n",
        "        picking random action (exploration) or greedy action based on existing knowledge (exploitation).\n",
        "        \"\"\"\n",
        "\n",
        "        self.epsilon = max(self.epsilon_min, self.epsilon * self.epsilon_decay)\n",
        "\n",
        "        if random.uniform(0, 1) <= self.epsilon: # exploration\n",
        "            return env.action_space.sample()\n",
        "        else:\n",
        "            act_values = self.model.predict(state) # exploitation\n",
        "            return np.argmax(act_values[0])\n",
        "\n",
        "    def replay(self):\n",
        "        \n",
        "        \"\"\"\n",
        "        Agent experiences replay memory during training. Replay memory will be selected randomly,\n",
        "        so that a batch of tranining samples are decorrelted. \n",
        "        \"\"\"\n",
        "      \n",
        "        # Wait until we have enough sample available in memeory\n",
        "        if len(self.memory) < self.batch_size: \n",
        "            return\n",
        "\n",
        "        minibatch = random.sample(self.memory, self.batch_size)\n",
        "        states = np.array([i[0] for i in minibatch])\n",
        "        actions = np.array([i[1] for i in minibatch])\n",
        "        rewards = np.array([i[2] for i in minibatch])\n",
        "        next_states = np.array([i[3] for i in minibatch])\n",
        "        dones = np.array([i[4] for i in minibatch])\n",
        "\n",
        "        # Q function is updated based on Bellman Equation\n",
        "        states, next_states = np.squeeze(states), np.squeeze(next_states)\n",
        "        targets = rewards + self.discount_factor * (np.amax(self.model.predict_on_batch(next_states), axis=1))*(1-dones)\n",
        "        targets_full = self.model.predict_on_batch(states)\n",
        "        ind = np.array([i for i in range(self.batch_size)])\n",
        "        targets_full[[ind], [actions]] = targets \n",
        "\n",
        "        self.model.fit(states, targets_full, epochs = 1, verbose = 0)\n",
        "\n",
        "    def total_energy(self, state):\n",
        "        \"\"\"\n",
        "        Total energy is the sum of its motion (i.e., kinetic energy) and/or the result of its stored energy of position (i.e., potential energy).\n",
        "        \"\"\"\n",
        "        x = state[0, 0] # position in x direction\n",
        "        v = state[0, 1] # velocity\n",
        "\n",
        "        # A change of the height is given by dh = dx cos φx, \n",
        "        # which integrates to hx = 0.0025 / g * cos(3x)dx = 0.0025 / (3g) * sin(3x) + C\n",
        "        # Here we will use g = 1, and C = 0\n",
        "        potential_energy = 0.0025 / 3 * (math.sin(3 * x)) \n",
        "        kinetic_energy = 0.5 * (v ** 2)\n",
        "\n",
        "        return potential_energy + kinetic_energy"
      ],
      "execution_count": 0,
      "outputs": []
    },
    {
      "cell_type": "markdown",
      "metadata": {
        "id": "E4JbOOlqghOr",
        "colab_type": "text"
      },
      "source": [
        "Train agent"
      ]
    },
    {
      "cell_type": "code",
      "metadata": {
        "id": "VpBVfASSkl9g",
        "colab_type": "code",
        "outputId": "8b3626af-dbb7-4a7e-8ef7-c7f9756d115d",
        "colab": {
          "base_uri": "https://localhost:8080/",
          "height": 1000
        }
      },
      "source": [
        "def train_dqn(episode):\n",
        "    \"\"\"\n",
        "    Train dqn model to interact with and learn from the environment\n",
        "    \"\"\"\n",
        "    loss = []\n",
        "    agent = DQN() \n",
        "    goal = 0.5\n",
        "  \n",
        "    for e in range(episode):\n",
        "        env.seed(episode)\n",
        "        state = env.reset()\n",
        "        state = np.reshape(state, (1, 2))\n",
        "        score = 0\n",
        "        max_steps = 1000\n",
        "\n",
        "        for i in range(max_steps):\n",
        "            action = agent.act(state)\n",
        "            next_state, reward, done, _ = env.step(action)\n",
        "            next_state = np.reshape(next_state, (1, 2))\n",
        "            score = score -1\n",
        "            reward = 1000 * (agent.total_energy(next_state) - agent.total_energy(state)) \n",
        "            agent.remember(state, action, reward, next_state, done)\n",
        "            state = next_state\n",
        "            agent.replay()\n",
        "\n",
        "            # Typically the episode is done when the agent reaches the goal or 200 steps.\n",
        "            # Because it take a lot of tries before the car can get out the bottom of the velly,\n",
        "            # here we will terminate the episode when the agent reach max steps or the goal\n",
        "            if state[0,0] >= goal: \n",
        "                print(\"episode: {}/{}, score: {}\".format(e, episode, score))\n",
        "                break\n",
        "        env.close()\n",
        "        loss.append(score)\n",
        "        if np.average(loss[-10:]) >= -110:\n",
        "            break\n",
        "    agent.save_model(filename = 'MountainCar-v0-dqn.h5')\n",
        "    return loss\n",
        "\n",
        "if __name__ == '__main__':\n",
        "    env = gym.make('MountainCar-v0')\n",
        "    ep = 75\n",
        "    loss = train_dqn(ep)"
      ],
      "execution_count": 3,
      "outputs": [
        {
          "output_type": "stream",
          "text": [
            "episode: 0/75, score: -531\n",
            "episode: 1/75, score: -265\n",
            "episode: 2/75, score: -199\n",
            "episode: 3/75, score: -201\n",
            "episode: 4/75, score: -131\n",
            "episode: 5/75, score: -118\n",
            "episode: 6/75, score: -123\n",
            "episode: 7/75, score: -127\n",
            "episode: 8/75, score: -124\n",
            "episode: 9/75, score: -119\n",
            "episode: 10/75, score: -119\n",
            "episode: 11/75, score: -137\n",
            "episode: 12/75, score: -118\n",
            "episode: 13/75, score: -117\n",
            "episode: 14/75, score: -122\n",
            "episode: 15/75, score: -145\n",
            "episode: 16/75, score: -129\n",
            "episode: 17/75, score: -119\n",
            "episode: 18/75, score: -162\n",
            "episode: 19/75, score: -145\n",
            "episode: 20/75, score: -112\n",
            "episode: 21/75, score: -146\n",
            "episode: 22/75, score: -115\n",
            "episode: 23/75, score: -115\n",
            "episode: 24/75, score: -118\n",
            "episode: 25/75, score: -116\n",
            "episode: 26/75, score: -111\n",
            "episode: 27/75, score: -116\n",
            "episode: 28/75, score: -115\n",
            "episode: 29/75, score: -122\n",
            "episode: 30/75, score: -112\n",
            "episode: 31/75, score: -150\n",
            "episode: 32/75, score: -113\n",
            "episode: 33/75, score: -113\n",
            "episode: 34/75, score: -111\n",
            "episode: 35/75, score: -150\n",
            "episode: 36/75, score: -120\n",
            "episode: 37/75, score: -112\n",
            "episode: 38/75, score: -112\n",
            "episode: 39/75, score: -112\n",
            "episode: 40/75, score: -111\n",
            "episode: 41/75, score: -112\n",
            "episode: 42/75, score: -111\n",
            "episode: 43/75, score: -138\n",
            "episode: 44/75, score: -110\n",
            "episode: 45/75, score: -112\n",
            "episode: 46/75, score: -112\n",
            "episode: 47/75, score: -114\n",
            "episode: 48/75, score: -111\n",
            "episode: 49/75, score: -110\n",
            "episode: 50/75, score: -111\n",
            "episode: 51/75, score: -111\n",
            "episode: 52/75, score: -111\n",
            "episode: 53/75, score: -140\n",
            "episode: 54/75, score: -111\n",
            "episode: 55/75, score: -111\n",
            "episode: 56/75, score: -112\n",
            "episode: 57/75, score: -111\n",
            "episode: 58/75, score: -133\n",
            "episode: 59/75, score: -111\n",
            "episode: 60/75, score: -111\n",
            "episode: 61/75, score: -112\n",
            "episode: 62/75, score: -111\n",
            "episode: 63/75, score: -113\n",
            "episode: 64/75, score: -110\n",
            "episode: 65/75, score: -110\n",
            "episode: 66/75, score: -110\n",
            "episode: 67/75, score: -111\n",
            "episode: 68/75, score: -110\n",
            "episode: 69/75, score: -111\n",
            "episode: 70/75, score: -111\n",
            "episode: 71/75, score: -110\n",
            "episode: 72/75, score: -110\n",
            "episode: 73/75, score: -110\n",
            "episode: 74/75, score: -110\n"
          ],
          "name": "stdout"
        }
      ]
    },
    {
      "cell_type": "code",
      "metadata": {
        "id": "MpIEuqruk6d5",
        "colab_type": "code",
        "colab": {
          "base_uri": "https://localhost:8080/",
          "height": 279
        },
        "outputId": "2ec025bd-0ee0-4a10-f623-3e58294a5a4b"
      },
      "source": [
        "### Visualize the process of training dqn model\n",
        "plt.subplots(figsize= (6, 4))\n",
        "plt.plot(list(range(len(loss))), loss, label = 'DQN training')\n",
        "plt.plot(list(range(len(loss))), np.ones((len(loss), 1))* -110, label = 'Goal')\n",
        "plt.xlabel('Episode')\n",
        "plt.ylabel('Rewards')\n",
        "plt.legend(loc = 'lower right')\n",
        "plt.xlim(0, len(loss))\n",
        "plt.grid(True)\n",
        "plt.show()"
      ],
      "execution_count": 4,
      "outputs": [
        {
          "output_type": "display_data",
          "data": {
            "image/png": "[encoded data removed]",
            "text/plain": [
              "<Figure size 432x288 with 1 Axes>"
            ]
          },
          "metadata": {
            "tags": []
          }
        }
      ]
    },
    {
      "cell_type": "markdown",
      "metadata": {
        "id": "_ZpFjyQwg0ZF",
        "colab_type": "text"
      },
      "source": [
        "Test"
      ]
    },
    {
      "cell_type": "code",
      "metadata": {
        "id": "-5_0l99zp5Wb",
        "colab_type": "code",
        "colab": {
          "base_uri": "https://localhost:8080/",
          "height": 34
        },
        "outputId": "f169d4c1-0f73-4f93-e24e-940c7d38c591"
      },
      "source": [
        "def test_dqn(episode):\n",
        "\n",
        "    \"\"\"\n",
        "    Valide dqn model with 100 trials\n",
        "    \"\"\"\n",
        "  \n",
        "    episodes = episode\n",
        "    scores = []\n",
        "\n",
        "    for e in range(episodes):\n",
        "        state = env.reset()\n",
        "        score = 0\n",
        "        while True:\n",
        "            action = np.argmax(model.predict(np.array([state])))\n",
        "            state, reward, done, _ = env.step(action)\n",
        "            score += reward\n",
        "            if done:\n",
        "                scores.append(score)\n",
        "                break\n",
        "        env.close()\n",
        "    return np.average(scores)\n",
        "\n",
        "if __name__ == '__main__':\n",
        "    env = gym.make('MountainCar-v0')\n",
        "    model = models.load_model('MountainCar-v0-dqn.h5')\n",
        "    ep = 100\n",
        "    loss = test_dqn(ep)\n",
        "    print('Average rewards in the last 100 episodes: {}'.format(loss))"
      ],
      "execution_count": 5,
      "outputs": [
        {
          "output_type": "stream",
          "text": [
            "Average rewards in the last 100 episodes: -109.6\n"
          ],
          "name": "stdout"
        }
      ]
    }
  ]
}