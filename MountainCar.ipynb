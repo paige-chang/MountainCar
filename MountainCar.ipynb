{
  "nbformat": 4,
  "nbformat_minor": 0,
  "metadata": {
    "colab": {
      "name": "MountainCar.ipynb",
      "provenance": [],
      "collapsed_sections": [],
      "authorship_tag": "ABX9TyMLSNk/nMBYNT8sOzenZI1N"
    },
    "kernelspec": {
      "name": "python3",
      "display_name": "Python 3"
    }
  },
  "cells": [
    {
      "cell_type": "code",
      "metadata": {
        "id": "qNXghWkQkBrf",
        "colab_type": "code",
        "outputId": "e2e8a8d5-e461-4e6b-c7ea-0b5482a6dcce",
        "colab": {
          "base_uri": "https://localhost:8080/",
          "height": 54
        }
      },
      "source": [
        "%tensorflow_version 1.x\n",
        "import tensorflow as tf\n",
        "tf.compat.v1.logging.set_verbosity(tf.compat.v1.logging.ERROR)\n",
        "\n",
        "import gym\n",
        "import numpy as np\n",
        "import random\n",
        "import matplotlib.pyplot as plt\n",
        "import math\n",
        "from collections import deque\n",
        "from keras import Sequential\n",
        "from keras.layers import Dense\n",
        "from keras.optimizers import adam\n",
        "import warnings\n",
        "warnings.filterwarnings('ignore')"
      ],
      "execution_count": 1,
      "outputs": [
        {
          "output_type": "stream",
          "text": [
            "Using TensorFlow backend.\n"
          ],
          "name": "stderr"
        }
      ]
    },
    {
      "cell_type": "code",
      "metadata": {
        "id": "KgV4LRVSkSg7",
        "colab_type": "code",
        "colab": {}
      },
      "source": [
        "class DQN(object):\n",
        "\n",
        "    \"\"\" Implementation of deep q learning algorithm \"\"\"\n",
        "\n",
        "    def __init__(self, action_space, state_space):\n",
        "\n",
        "        self.action_space = action_space\n",
        "        self.state_space = state_space\n",
        "        self.epsilon = 1\n",
        "        self.gamma = 1\n",
        "        self.epsilon_min = .01\n",
        "        self.epsilon_decay = .999\n",
        "        self.learning_rate = 0.99\n",
        "        self.batch_size = 32\n",
        "        self.memory = deque(maxlen = 10000)\n",
        "        self.model = self.build_model()\n",
        "\n",
        "    def build_model(self):\n",
        "\n",
        "        model = Sequential()\n",
        "        model.add(Dense(24, input_shape=(self.state_space,), activation='relu'))\n",
        "        model.add(Dense(24, activation='relu'))\n",
        "        model.add(Dense(self.action_space, activation='linear'))\n",
        "        model.compile(loss = 'mse', optimizer = adam(lr = 0.001))\n",
        "        return model\n",
        "\n",
        "    def remember(self, state, action, reward, next_state, done):\n",
        "\n",
        "        self.memory.append((state, action, reward, next_state, done))\n",
        "\n",
        "    def act(self, state):\n",
        "        self.epsilon = self.epsilon * self.epsilon_decay\n",
        "        epsilon = max(self.epsilon_min, self.epsilon)\n",
        "\n",
        "        if random.uniform(0, 1) <= epsilon:\n",
        "            return env.action_space.sample()\n",
        "        else:\n",
        "            act_values = self.model.predict(state)\n",
        "            return np.argmax(act_values[0])\n",
        "\n",
        "    def replay(self, step):\n",
        "      \n",
        "        if len(self.memory) < self.batch_size:\n",
        "            return\n",
        "\n",
        "        random.seed(step)\n",
        "\n",
        "        minibatch = random.sample(self.memory, self.batch_size)\n",
        "        states = np.array([i[0] for i in minibatch])\n",
        "        actions = np.array([i[1] for i in minibatch])\n",
        "        rewards = np.array([i[2] for i in minibatch])\n",
        "        next_states = np.array([i[3] for i in minibatch])\n",
        "        dones = np.array([i[4] for i in minibatch])\n",
        "\n",
        "        states = np.squeeze(states)\n",
        "        next_states = np.squeeze(next_states)\n",
        "\n",
        "        targets = rewards + self.gamma*(np.amax(self.model.predict_on_batch(next_states), axis=1))*(1-dones)\n",
        "        targets_full = self.model.predict_on_batch(states)\n",
        "\n",
        "        ind = np.array([i for i in range(self.batch_size)])\n",
        "        targets_full[[ind], [actions]] = (1 - self.learning_rate) * targets_full[[ind], [actions]] + self.learning_rate * targets \n",
        "        self.model.fit(states, targets_full, epochs=1, verbose=0)\n",
        "\n",
        "    def total_energy(self, state):\n",
        "        x = state[0, 0]\n",
        "        v = state[0, 1]\n",
        "        return 0.0025 / 3 * (math.sin(3 * x)) + 0.5 * (v * v)"
      ],
      "execution_count": 0,
      "outputs": []
    },
    {
      "cell_type": "code",
      "metadata": {
        "id": "VpBVfASSkl9g",
        "colab_type": "code",
        "colab": {}
      },
      "source": [
        "def train_dqn(episode):\n",
        "  \n",
        "    global env\n",
        "    loss = []\n",
        "    agent = DQN(3, env.observation_space.shape[0])\n",
        "    for e in range(episode):\n",
        "        env = gym.make('MountainCar-v0')\n",
        "        env.seed(episode)\n",
        "        state = env.reset()\n",
        "        state = np.reshape(state, (1, 2))\n",
        "        score = 0\n",
        "        max_steps = 1000\n",
        "        for i in range(max_steps):\n",
        "            action = agent.act(state)\n",
        "            next_state, reward, done, _ = env.step(action)\n",
        "            next_state = np.reshape(next_state, (1, 2))\n",
        "            score = score -1\n",
        "            reward = 1000 * (agent.total_energy(next_state) - agent.total_energy(state)) \n",
        "            agent.remember(state, action, reward, next_state, done)\n",
        "            state = next_state\n",
        "            agent.replay(i)\n",
        "            if state[0,0] >= 0.5:\n",
        "                print(\"episode: {}/{}, score: {}\".format(e, episode, score))\n",
        "                break\n",
        "        env.close()\n",
        "        loss.append(score)\n",
        "        if np.average(loss[-10:]) >= -110:\n",
        "            break\n",
        "    return loss"
      ],
      "execution_count": 0,
      "outputs": []
    },
    {
      "cell_type": "code",
      "metadata": {
        "id": "MpIEuqruk6d5",
        "colab_type": "code",
        "outputId": "546f5c44-8fed-45ea-f8a9-2a234804c3c8",
        "colab": {
          "base_uri": "https://localhost:8080/",
          "height": 746
        }
      },
      "source": [
        "if __name__ == '__main__':\n",
        "    env = gym.make('MountainCar-v0')\n",
        "    ep = 100\n",
        "    loss = train_dqn(ep)\n",
        "    plt.plot(list(range(len(loss))), loss)\n",
        "    plt.xlabel('episode no.')\n",
        "    plt.ylabel('number of tries to reach the goal')\n",
        "    plt.grid(True)\n",
        "    plt.show()"
      ],
      "execution_count": 4,
      "outputs": [
        {
          "output_type": "stream",
          "text": [
            "episode: 0/100, score: -713\n",
            "episode: 1/100, score: -195\n",
            "episode: 2/100, score: -209\n",
            "episode: 3/100, score: -225\n",
            "episode: 4/100, score: -208\n",
            "episode: 5/100, score: -141\n",
            "episode: 6/100, score: -124\n",
            "episode: 7/100, score: -143\n",
            "episode: 8/100, score: -143\n",
            "episode: 9/100, score: -150\n",
            "episode: 10/100, score: -116\n",
            "episode: 11/100, score: -117\n",
            "episode: 12/100, score: -114\n",
            "episode: 13/100, score: -149\n",
            "episode: 14/100, score: -118\n",
            "episode: 15/100, score: -147\n",
            "episode: 16/100, score: -145\n",
            "episode: 17/100, score: -115\n",
            "episode: 18/100, score: -111\n",
            "episode: 19/100, score: -110\n",
            "episode: 20/100, score: -109\n",
            "episode: 21/100, score: -109\n",
            "episode: 22/100, score: -110\n",
            "episode: 23/100, score: -109\n",
            "episode: 24/100, score: -109\n",
            "episode: 25/100, score: -109\n",
            "episode: 26/100, score: -105\n"
          ],
          "name": "stdout"
        },
        {
          "output_type": "display_data",
          "data": {
            "image/png": "[encoded data removed]",
            "text/plain": [
              "<Figure size 432x288 with 1 Axes>"
            ]
          },
          "metadata": {
            "tags": []
          }
        }
      ]
    },
    {
      "cell_type": "code",
      "metadata": {
        "id": "C5d0tMoCBfNq",
        "colab_type": "code",
        "colab": {}
      },
      "source": [
        ""
      ],
      "execution_count": 0,
      "outputs": []
    }
  ]
}